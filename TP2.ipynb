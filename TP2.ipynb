{
 "cells": [
  {
   "cell_type": "markdown",
   "id": "f558d211-dd3d-43db-9731-6f7160f058a2",
   "metadata": {},
   "source": [
    "## Trabalho #2 - Descritores de Características\n",
    "\n",
    "#### Integrantes:\n",
    "- Filipe Rodrigues Batista de Oliveira - 2018055091;\n",
    "- Hilário Côrrea da Silva Neto - 2019006701; "
   ]
  },
  {
   "cell_type": "code",
   "execution_count": 1,
   "id": "ad99ef65-40ff-464b-87fa-241500296960",
   "metadata": {},
   "outputs": [],
   "source": [
    "import os\n",
    "import cv2\n",
    "import sklearn\n",
    "import numpy as np\n",
    "import plotly.express as px\n",
    "from sklearn.decomposition import PCA\n",
    "from sklearn.manifold import TSNE "
   ]
  },
  {
   "cell_type": "markdown",
   "id": "24f2ef01-fdf1-4527-b4b9-37b37f0e27ac",
   "metadata": {},
   "source": [
    "HOG:\n",
    "\n",
    "1. Calcule o gradiente da imagem;\n",
    "2. Subdivida o resultado de (1) em w x h regiões;\n",
    "3. Para cada região gere o histograma (vetor de orientações do gradiente X intensidade do gradiente) de (2)\n",
    "4. Normalize o histograma obtido em (3);\n",
    "5. Concatene os histogramas de todas as regiões;"
   ]
  },
  {
   "cell_type": "code",
   "execution_count": 2,
   "id": "f9ab1dac-879b-492c-a31b-f55c8a55dec4",
   "metadata": {},
   "outputs": [],
   "source": [
    "def HOGImage(image, w, h, s):\n",
    "    \n",
    "    # Calcula o gradiente da imagem, e em seguida sua magnitude e orientação.\n",
    "    grad_image = (cv2.Sobel(image, cv2.CV_32F, 1, 0, ksize=1), cv2.Sobel(image, cv2.CV_32F, 0, 1, ksize=1))\n",
    "    mag_grad_image, ang_grad_image = cv2.cartToPolar(grad_image[0], grad_image[1], angleInDegrees=True)\n",
    "    \n",
    "    # Percorre toda a imagem (com deslocamento s) gerando histogramas para cada sub-região w x h.\n",
    "    for i in range(0, w + 1, s):\n",
    "        features = []\n",
    "        for j in range(0, h + 1, s):\n",
    "            # print(mag_grad_image[i:w+i, j:h +j])\n",
    "            # print(\"Ang\", ang_grad_image[i:w+i, j:h +j])\n",
    "            \n",
    "            # NOTA: Perceba que os ângulos dos gradientes está no intervalo de [0º, 180º] após dividir o valor original por 2.\n",
    "            hist_k = gerar_histograma(mag_grad_image[i:w + i, j:h + j], ang_grad_image[i:w + i, j:h + j] / 2)\n",
    "            # print(hist_k)\n",
    "            \n",
    "        # Concatena os histogramas (normalizados) das sub-regiões w x h. \n",
    "        features = np.hstack((features, hist_k / np.linalg.norm(hist_k)))\n",
    "    \n",
    "    return features.reshape(1, -1)"
   ]
  },
  {
   "cell_type": "code",
   "execution_count": 3,
   "id": "e51bf4e8-df27-4164-bca7-f2c72b15d235",
   "metadata": {},
   "outputs": [],
   "source": [
    "def gerar_histograma(mag_image, ang_image):\n",
    "    \n",
    "    # 9 bins com diferença de 20º cada.\n",
    "    bins = np.arange(0, 180, 20)\n",
    "    hist = dict.fromkeys(bins, 0)\n",
    "    \n",
    "    for ang, mag in zip(np.ravel(ang_image), np.ravel(mag_image)):\n",
    "        # Encontra em qual intervalo (bins) que a orientação do gradiente (ang) está.\n",
    "        i = np.digitize(ang, bins, right=True)\n",
    "        \n",
    "        # Se ângulo for maior que 160ª. \n",
    "        if ang > bins[-1]:\n",
    "            hist[bins[-1]] += mag / 2\n",
    "            hist[bins[0]] += mag / 2\n",
    "        elif ang == bins[i]:\n",
    "            hist[bins[i]] += mag / 2\n",
    "            hist[bins[i - 1]] += mag / 2\n",
    "        else:\n",
    "            hist[bins[i]] += mag\n",
    "            \n",
    "    return np.array(list(hist.items()))[:, 1]"
   ]
  },
  {
   "cell_type": "markdown",
   "id": "47b89516-e6e6-47ea-9c28-cf45d67aaf6c",
   "metadata": {},
   "source": [
    "Inicialmente vamos definir as classes de imagens que devem ser lidas."
   ]
  },
  {
   "cell_type": "code",
   "execution_count": 4,
   "id": "a8c7b251-5ffb-4e7b-9b8d-861330b55d3c",
   "metadata": {},
   "outputs": [],
   "source": [
    "DIR_RAIZ = \"fashion_mnist_sample/\"\n",
    "classes = [\"Pullover\", \"Sandal\", \"Trouser\"]\n",
    "\n",
    "dir_classes = [os.path.join(DIR_RAIZ, classe) for classe in classes]  \n",
    "caminho2imgs = [[os.path.join(d, f) for f in os.listdir(d) if f.endswith(\".png\")] for d in dir_classes]"
   ]
  },
  {
   "cell_type": "markdown",
   "id": "52226129-b681-4133-b0b6-d9ac4526b37c",
   "metadata": {},
   "source": [
    "Agora, vamos passar as imagens de cada uma das classes definidas acima como argumento no algoritmo implementado anteriormente."
   ]
  },
  {
   "cell_type": "code",
   "execution_count": 11,
   "id": "49f28d83-cca2-409b-baaf-02dc47ccc61a",
   "metadata": {},
   "outputs": [],
   "source": [
    "imgs = [cv2.imread(caminho2img, cv2.IMREAD_GRAYSCALE) for caminho2img in caminho2imgs[0]]\n",
    "# HOGImage(imgs[0], 16,16,8)\n",
    "descritores3classes = np.array([HOGImage(img, 16, 16, 8) for img in imgs]).reshape(-1, 9)\n",
    "# descritores3classes"
   ]
  },
  {
   "cell_type": "markdown",
   "id": "347c2228-1e7f-46ea-89fa-7477fa95d24f",
   "metadata": {},
   "source": [
    "Veja que a utilização do HOG permitiu que nós conseguissemos separar as classes após usarmos o TSNE"
   ]
  },
  {
   "cell_type": "code",
   "execution_count": 34,
   "id": "f4be3805-7225-4200-8532-e63843d7b9a2",
   "metadata": {},
   "outputs": [
    {
     "name": "stderr",
     "output_type": "stream",
     "text": [
      "/usr/lib/python3.10/site-packages/sklearn/manifold/_t_sne.py:800: FutureWarning:\n",
      "\n",
      "The default initialization in TSNE will change from 'random' to 'pca' in 1.2.\n",
      "\n",
      "/usr/lib/python3.10/site-packages/sklearn/manifold/_t_sne.py:810: FutureWarning:\n",
      "\n",
      "The default learning rate in TSNE will change from 200.0 to 'auto' in 1.2.\n",
      "\n"
     ]
    },
    {
     "ename": "ValueError",
     "evalue": "All arguments should have the same length. The length of argument `color` is 3, whereas the length of  previously-processed arguments ['index', '0', '1'] is 100",
     "output_type": "error",
     "traceback": [
      "\u001b[0;31m---------------------------------------------------------------------------\u001b[0m",
      "\u001b[0;31mValueError\u001b[0m                                Traceback (most recent call last)",
      "Cell \u001b[0;32mIn [34], line 7\u001b[0m\n\u001b[1;32m      4\u001b[0m resultado_pca \u001b[38;5;241m=\u001b[39m pca\u001b[38;5;241m.\u001b[39mfit_transform(descritores3classes)\n\u001b[1;32m      5\u001b[0m resultado_tsne \u001b[38;5;241m=\u001b[39m tsne\u001b[38;5;241m.\u001b[39mfit_transform(descritores3classes)\n\u001b[0;32m----> 7\u001b[0m fig \u001b[38;5;241m=\u001b[39m \u001b[43mpx\u001b[49m\u001b[38;5;241;43m.\u001b[39;49m\u001b[43mscatter\u001b[49m\u001b[43m(\u001b[49m\n\u001b[1;32m      8\u001b[0m \u001b[43m    \u001b[49m\u001b[43mresultado_tsne\u001b[49m\u001b[43m,\u001b[49m\n\u001b[1;32m      9\u001b[0m \u001b[43m    \u001b[49m\u001b[43mcolor\u001b[49m\u001b[38;5;241;43m=\u001b[39;49m\u001b[43mclasses\u001b[49m\u001b[43m \u001b[49m\u001b[43m,\u001b[49m\u001b[43m \u001b[49m\u001b[43mlabels\u001b[49m\u001b[38;5;241;43m=\u001b[39;49m\u001b[43m{\u001b[49m\u001b[38;5;124;43m\"\u001b[39;49m\u001b[38;5;124;43mcolor\u001b[39;49m\u001b[38;5;124;43m\"\u001b[39;49m\u001b[43m:\u001b[49m\u001b[43m \u001b[49m\u001b[38;5;124;43m\"\u001b[39;49m\u001b[38;5;124;43mclasses\u001b[39;49m\u001b[38;5;124;43m\"\u001b[39;49m\u001b[43m}\u001b[49m\n\u001b[1;32m     10\u001b[0m \u001b[43m)\u001b[49m\n\u001b[1;32m     12\u001b[0m fig\u001b[38;5;241m.\u001b[39mshow()\n",
      "File \u001b[0;32m~/.local/lib/python3.10/site-packages/plotly/express/_chart_types.py:66\u001b[0m, in \u001b[0;36mscatter\u001b[0;34m(data_frame, x, y, color, symbol, size, hover_name, hover_data, custom_data, text, facet_row, facet_col, facet_col_wrap, facet_row_spacing, facet_col_spacing, error_x, error_x_minus, error_y, error_y_minus, animation_frame, animation_group, category_orders, labels, orientation, color_discrete_sequence, color_discrete_map, color_continuous_scale, range_color, color_continuous_midpoint, symbol_sequence, symbol_map, opacity, size_max, marginal_x, marginal_y, trendline, trendline_options, trendline_color_override, trendline_scope, log_x, log_y, range_x, range_y, render_mode, title, template, width, height)\u001b[0m\n\u001b[1;32m     12\u001b[0m \u001b[38;5;28;01mdef\u001b[39;00m \u001b[38;5;21mscatter\u001b[39m(\n\u001b[1;32m     13\u001b[0m     data_frame\u001b[38;5;241m=\u001b[39m\u001b[38;5;28;01mNone\u001b[39;00m,\n\u001b[1;32m     14\u001b[0m     x\u001b[38;5;241m=\u001b[39m\u001b[38;5;28;01mNone\u001b[39;00m,\n\u001b[0;32m   (...)\u001b[0m\n\u001b[1;32m     60\u001b[0m     height\u001b[38;5;241m=\u001b[39m\u001b[38;5;28;01mNone\u001b[39;00m,\n\u001b[1;32m     61\u001b[0m ) \u001b[38;5;241m-\u001b[39m\u001b[38;5;241m>\u001b[39m go\u001b[38;5;241m.\u001b[39mFigure:\n\u001b[1;32m     62\u001b[0m     \u001b[38;5;124;03m\"\"\"\u001b[39;00m\n\u001b[1;32m     63\u001b[0m \u001b[38;5;124;03m    In a scatter plot, each row of `data_frame` is represented by a symbol\u001b[39;00m\n\u001b[1;32m     64\u001b[0m \u001b[38;5;124;03m    mark in 2D space.\u001b[39;00m\n\u001b[1;32m     65\u001b[0m \u001b[38;5;124;03m    \"\"\"\u001b[39;00m\n\u001b[0;32m---> 66\u001b[0m     \u001b[38;5;28;01mreturn\u001b[39;00m \u001b[43mmake_figure\u001b[49m\u001b[43m(\u001b[49m\u001b[43margs\u001b[49m\u001b[38;5;241;43m=\u001b[39;49m\u001b[38;5;28;43mlocals\u001b[39;49m\u001b[43m(\u001b[49m\u001b[43m)\u001b[49m\u001b[43m,\u001b[49m\u001b[43m \u001b[49m\u001b[43mconstructor\u001b[49m\u001b[38;5;241;43m=\u001b[39;49m\u001b[43mgo\u001b[49m\u001b[38;5;241;43m.\u001b[39;49m\u001b[43mScatter\u001b[49m\u001b[43m)\u001b[49m\n",
      "File \u001b[0;32m~/.local/lib/python3.10/site-packages/plotly/express/_core.py:1990\u001b[0m, in \u001b[0;36mmake_figure\u001b[0;34m(args, constructor, trace_patch, layout_patch)\u001b[0m\n\u001b[1;32m   1987\u001b[0m layout_patch \u001b[38;5;241m=\u001b[39m layout_patch \u001b[38;5;129;01mor\u001b[39;00m {}\n\u001b[1;32m   1988\u001b[0m apply_default_cascade(args)\n\u001b[0;32m-> 1990\u001b[0m args \u001b[38;5;241m=\u001b[39m \u001b[43mbuild_dataframe\u001b[49m\u001b[43m(\u001b[49m\u001b[43margs\u001b[49m\u001b[43m,\u001b[49m\u001b[43m \u001b[49m\u001b[43mconstructor\u001b[49m\u001b[43m)\u001b[49m\n\u001b[1;32m   1991\u001b[0m \u001b[38;5;28;01mif\u001b[39;00m constructor \u001b[38;5;129;01min\u001b[39;00m [go\u001b[38;5;241m.\u001b[39mTreemap, go\u001b[38;5;241m.\u001b[39mSunburst, go\u001b[38;5;241m.\u001b[39mIcicle] \u001b[38;5;129;01mand\u001b[39;00m args[\u001b[38;5;124m\"\u001b[39m\u001b[38;5;124mpath\u001b[39m\u001b[38;5;124m\"\u001b[39m] \u001b[38;5;129;01mis\u001b[39;00m \u001b[38;5;129;01mnot\u001b[39;00m \u001b[38;5;28;01mNone\u001b[39;00m:\n\u001b[1;32m   1992\u001b[0m     args \u001b[38;5;241m=\u001b[39m process_dataframe_hierarchy(args)\n",
      "File \u001b[0;32m~/.local/lib/python3.10/site-packages/plotly/express/_core.py:1405\u001b[0m, in \u001b[0;36mbuild_dataframe\u001b[0;34m(args, constructor)\u001b[0m\n\u001b[1;32m   1402\u001b[0m     args[\u001b[38;5;124m\"\u001b[39m\u001b[38;5;124mcolor\u001b[39m\u001b[38;5;124m\"\u001b[39m] \u001b[38;5;241m=\u001b[39m \u001b[38;5;28;01mNone\u001b[39;00m\n\u001b[1;32m   1403\u001b[0m \u001b[38;5;66;03m# now that things have been prepped, we do the systematic rewriting of `args`\u001b[39;00m\n\u001b[0;32m-> 1405\u001b[0m df_output, wide_id_vars \u001b[38;5;241m=\u001b[39m \u001b[43mprocess_args_into_dataframe\u001b[49m\u001b[43m(\u001b[49m\n\u001b[1;32m   1406\u001b[0m \u001b[43m    \u001b[49m\u001b[43margs\u001b[49m\u001b[43m,\u001b[49m\u001b[43m \u001b[49m\u001b[43mwide_mode\u001b[49m\u001b[43m,\u001b[49m\u001b[43m \u001b[49m\u001b[43mvar_name\u001b[49m\u001b[43m,\u001b[49m\u001b[43m \u001b[49m\u001b[43mvalue_name\u001b[49m\n\u001b[1;32m   1407\u001b[0m \u001b[43m\u001b[49m\u001b[43m)\u001b[49m\n\u001b[1;32m   1409\u001b[0m \u001b[38;5;66;03m# now that `df_output` exists and `args` contains only references, we complete\u001b[39;00m\n\u001b[1;32m   1410\u001b[0m \u001b[38;5;66;03m# the special-case and wide-mode handling by further rewriting args and/or mutating\u001b[39;00m\n\u001b[1;32m   1411\u001b[0m \u001b[38;5;66;03m# df_output\u001b[39;00m\n\u001b[1;32m   1413\u001b[0m count_name \u001b[38;5;241m=\u001b[39m _escape_col_name(df_output, \u001b[38;5;124m\"\u001b[39m\u001b[38;5;124mcount\u001b[39m\u001b[38;5;124m\"\u001b[39m, [var_name, value_name])\n",
      "File \u001b[0;32m~/.local/lib/python3.10/site-packages/plotly/express/_core.py:1245\u001b[0m, in \u001b[0;36mprocess_args_into_dataframe\u001b[0;34m(args, wide_mode, var_name, value_name)\u001b[0m\n\u001b[1;32m   1242\u001b[0m         col_name \u001b[38;5;241m=\u001b[39m _check_name_not_reserved(field, reserved_names)\n\u001b[1;32m   1244\u001b[0m     \u001b[38;5;28;01mif\u001b[39;00m length \u001b[38;5;129;01mand\u001b[39;00m \u001b[38;5;28mlen\u001b[39m(argument) \u001b[38;5;241m!=\u001b[39m length:\n\u001b[0;32m-> 1245\u001b[0m         \u001b[38;5;28;01mraise\u001b[39;00m \u001b[38;5;167;01mValueError\u001b[39;00m(\n\u001b[1;32m   1246\u001b[0m             \u001b[38;5;124m\"\u001b[39m\u001b[38;5;124mAll arguments should have the same length. \u001b[39m\u001b[38;5;124m\"\u001b[39m\n\u001b[1;32m   1247\u001b[0m             \u001b[38;5;124m\"\u001b[39m\u001b[38;5;124mThe length of argument `\u001b[39m\u001b[38;5;132;01m%s\u001b[39;00m\u001b[38;5;124m` is \u001b[39m\u001b[38;5;132;01m%d\u001b[39;00m\u001b[38;5;124m, whereas the \u001b[39m\u001b[38;5;124m\"\u001b[39m\n\u001b[1;32m   1248\u001b[0m             \u001b[38;5;124m\"\u001b[39m\u001b[38;5;124mlength of  previously-processed arguments \u001b[39m\u001b[38;5;132;01m%s\u001b[39;00m\u001b[38;5;124m is \u001b[39m\u001b[38;5;132;01m%d\u001b[39;00m\u001b[38;5;124m\"\u001b[39m\n\u001b[1;32m   1249\u001b[0m             \u001b[38;5;241m%\u001b[39m (field, \u001b[38;5;28mlen\u001b[39m(argument), \u001b[38;5;28mstr\u001b[39m(\u001b[38;5;28mlist\u001b[39m(df_output\u001b[38;5;241m.\u001b[39mcolumns)), length)\n\u001b[1;32m   1250\u001b[0m         )\n\u001b[1;32m   1251\u001b[0m     df_output[\u001b[38;5;28mstr\u001b[39m(col_name)] \u001b[38;5;241m=\u001b[39m to_unindexed_series(argument)\n\u001b[1;32m   1253\u001b[0m \u001b[38;5;66;03m# Finally, update argument with column name now that column exists\u001b[39;00m\n",
      "\u001b[0;31mValueError\u001b[0m: All arguments should have the same length. The length of argument `color` is 3, whereas the length of  previously-processed arguments ['index', '0', '1'] is 100"
     ]
    }
   ],
   "source": [
    "pca = PCA(n_components=9)\n",
    "tsne = TSNE(random_state=0)\n",
    "\n",
    "resultado_pca = pca.fit_transform(descritores3classes)\n",
    "resultado_tsne = tsne.fit_transform(descritores3classes)\n",
    "\n",
    "fig = px.scatter(\n",
    "    resultado_tsne, x=0, y=1,\n",
    "    color=classes , labels={\"color\": \"classes\"}\n",
    ")\n",
    "\n",
    "fig.show()"
   ]
  },
  {
   "cell_type": "markdown",
   "id": "d2818091-adeb-4b54-a47a-fa010f11d22e",
   "metadata": {},
   "source": [
    "Repetindo a análise precendente, só que agora usando todas as classes no banco de dados. </br>\n",
    "Perceba que "
   ]
  },
  {
   "cell_type": "code",
   "execution_count": null,
   "id": "2e2b56d7-bd9c-4d84-b046-93bd1988a0d6",
   "metadata": {},
   "outputs": [],
   "source": [
    "classes = os.listdir(DIR_RAIZ)\n",
    "\n",
    "dir_classes = [os.path.join(DIR_RAIZ, classe) for classe in classes]  \n",
    "caminho2imgs = [[os.path.join(d, f) for f in os.listdir(d) if f.endswith(\".png\")] for d in dir_classes]\n",
    "\n",
    "imgs = [cv2.imread(caminho2img, cv2.IMREAD_GRAYSCALE) for caminho2img in caminho2imgs[0]]\n",
    "descritores = [HOGImage(img, 16, 16, 8) for img in imgs] \n",
    "\n",
    "pca = PCA(n_components=9) \n",
    "tsne = TSNE(random_state=0)\n",
    "\n",
    "resultado_pca = pca.fit_transform(descritor)\n",
    "resultado_tsne = tsne.fit_transform(resultado_pca)\n",
    "\n",
    "# fig = px.scatter(\n",
    "#     resultado_tsne, x=0, y=1,\n",
    "#     color=np.arange(resultado_tsne.shape[0]) , labels={\"color\": \"classes\"}\n",
    "# )\n",
    "\n",
    "# fig.show()"
   ]
  },
  {
   "cell_type": "markdown",
   "id": "3924b823-3afa-40b3-85ae-8b3c1ca6a34b",
   "metadata": {},
   "source": [
    "Ao se utilizar o descritor SIFT vemos que "
   ]
  },
  {
   "cell_type": "code",
   "execution_count": null,
   "id": "1a160284-c6ea-4925-a372-97b233f210f7",
   "metadata": {},
   "outputs": [],
   "source": [
    "sift = cv2.SIFT.create()\n",
    "_, descritor2 = sift.detectAndCompute(imgs, None)\n",
    "\n",
    "pca = PCA(n_components=9) \n",
    "tsne = TSNE(random_state=0)\n",
    "\n",
    "resultado_pca = pca.fit_transform(descritor2)\n",
    "resultado_tsne = tsne.fit_transform(resultado_pca)\n",
    "\n",
    "fig = px.scatter(\n",
    "    resultado_tsne, x=0, y=1,\n",
    "    color=descritor2, labels={\"color\": \"classes\"}\n",
    ")\n",
    "\n",
    "fig.show()"
   ]
  },
  {
   "cell_type": "markdown",
   "id": "3c8ef738-7b61-4bd0-b559-bda2b35738f3",
   "metadata": {},
   "source": []
  }
 ],
 "metadata": {
  "kernelspec": {
   "display_name": "Python 3 (ipykernel)",
   "language": "python",
   "name": "python3"
  },
  "language_info": {
   "codemirror_mode": {
    "name": "ipython",
    "version": 3
   },
   "file_extension": ".py",
   "mimetype": "text/x-python",
   "name": "python",
   "nbconvert_exporter": "python",
   "pygments_lexer": "ipython3",
   "version": "3.10.8"
  }
 },
 "nbformat": 4,
 "nbformat_minor": 5
}
